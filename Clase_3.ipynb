{
  "nbformat": 4,
  "nbformat_minor": 0,
  "metadata": {
    "colab": {
      "name": "Clase 3.ipynb",
      "provenance": [],
      "authorship_tag": "ABX9TyOOwEf1sVM+mlPYsII5/8E9",
      "include_colab_link": true
    },
    "kernelspec": {
      "name": "python3",
      "display_name": "Python 3"
    }
  },
  "cells": [
    {
      "cell_type": "markdown",
      "metadata": {
        "id": "view-in-github",
        "colab_type": "text"
      },
      "source": [
        "<a href=\"https://colab.research.google.com/github/fcernafukuzaki/GoogleColab/blob/master/Clase_3.ipynb\" target=\"_parent\"><img src=\"https://colab.research.google.com/assets/colab-badge.svg\" alt=\"Open In Colab\"/></a>"
      ]
    },
    {
      "cell_type": "code",
      "metadata": {
        "id": "_kYxpmQ9txBs",
        "colab_type": "code",
        "colab": {}
      },
      "source": [
        "import torch\n",
        "# Trabajar con arreglos.\n",
        "import numpy as np\n",
        "# Redes neuronales\n",
        "import torch.nn as nn\n",
        "# Optimizaciones\n",
        "import torch.optim as optim\n",
        "\n",
        "#Graficar\n",
        "import matplotlib.pyplot as plt"
      ],
      "execution_count": 0,
      "outputs": []
    },
    {
      "cell_type": "markdown",
      "metadata": {
        "id": "vOOuSrOduAgS",
        "colab_type": "text"
      },
      "source": [
        "# Regresión Lineal\n",
        "\n",
        "---\n",
        "\n"
      ]
    },
    {
      "cell_type": "code",
      "metadata": {
        "id": "FG508vDDuT2J",
        "colab_type": "code",
        "colab": {
          "base_uri": "https://localhost:8080/",
          "height": 282
        },
        "outputId": "04d93f0f-bb83-480f-9a1b-04eef36cb638"
      },
      "source": [
        "car_prices = [5, 6, 7, 8, 9, 10]\n",
        "units_sold = [8.5, 8, 7.5, 7.0, 6.5, 6.0]\n",
        "\n",
        "plt.scatter(car_prices, units_sold)"
      ],
      "execution_count": 2,
      "outputs": [
        {
          "output_type": "execute_result",
          "data": {
            "text/plain": [
              "<matplotlib.collections.PathCollection at 0x7f9decaa04a8>"
            ]
          },
          "metadata": {
            "tags": []
          },
          "execution_count": 2
        },
        {
          "output_type": "display_data",
          "data": {
            "image/png": "[encoded data removed]",
            "text/plain": [
              "<Figure size 432x288 with 1 Axes>"
            ]
          },
          "metadata": {
            "tags": []
          }
        }
      ]
    },
    {
      "cell_type": "code",
      "metadata": {
        "id": "Xpq_ZikDu2i1",
        "colab_type": "code",
        "colab": {
          "base_uri": "https://localhost:8080/",
          "height": 204
        },
        "outputId": "9b72d8b2-e91d-4bbc-f4ae-6ffeb7b58ef4"
      },
      "source": [
        "# Convertir arreglo a Numpy\n",
        "# para comprender conversión de datos\n",
        "prices_array = np.array(car_prices).reshape(-1, 1)\n",
        "units_array = np.array(units_sold).reshape(-1, 1)\n",
        "\n",
        "prices_array, prices_array"
      ],
      "execution_count": 5,
      "outputs": [
        {
          "output_type": "execute_result",
          "data": {
            "text/plain": [
              "(array([[ 5],\n",
              "        [ 6],\n",
              "        [ 7],\n",
              "        [ 8],\n",
              "        [ 9],\n",
              "        [10]]), array([[ 5],\n",
              "        [ 6],\n",
              "        [ 7],\n",
              "        [ 8],\n",
              "        [ 9],\n",
              "        [10]]))"
            ]
          },
          "metadata": {
            "tags": []
          },
          "execution_count": 5
        }
      ]
    },
    {
      "cell_type": "code",
      "metadata": {
        "id": "Zhk2w7y0vMuQ",
        "colab_type": "code",
        "colab": {
          "base_uri": "https://localhost:8080/",
          "height": 119
        },
        "outputId": "861ae071-68b9-4eaf-9dfd-ee52f406db46"
      },
      "source": [
        "prices = torch.from_numpy(prices_array).float().requires_grad_(True)\n",
        "# No necesita gradientes porque es lo que se va a tratar de explicar.\n",
        "units = torch.from_numpy(units_array).float()\n",
        "\n",
        "prices, prices.shape"
      ],
      "execution_count": 6,
      "outputs": [
        {
          "output_type": "execute_result",
          "data": {
            "text/plain": [
              "(tensor([[ 5.],\n",
              "         [ 6.],\n",
              "         [ 7.],\n",
              "         [ 8.],\n",
              "         [ 9.],\n",
              "         [10.]], requires_grad=True), torch.Size([6, 1]))"
            ]
          },
          "metadata": {
            "tags": []
          },
          "execution_count": 6
        }
      ]
    },
    {
      "cell_type": "code",
      "metadata": {
        "id": "IEtsEDNEvuBU",
        "colab_type": "code",
        "colab": {
          "base_uri": "https://localhost:8080/",
          "height": 299
        },
        "outputId": "813a30fa-4acc-4dc9-92d6-25358ed509b1"
      },
      "source": [
        "# Función Linear recibe como parámetros las dimensiones de la entrada y salida.\n",
        "model = nn.Linear(1, 1)\n",
        "\n",
        "loss_function = nn.MSELoss()\n",
        "\n",
        "optimizer = optim.SGD(model.parameters(), lr=0.015)\n",
        "\n",
        "# Crear training loop\n",
        "losses = []\n",
        "iterations = 2000\n",
        "\n",
        "for i in range(iterations):\n",
        "  prediction = model(prices)\n",
        "  loss = loss_function(prediction, units)\n",
        "  losses.append(loss.data)\n",
        "\n",
        "  optimizer.zero_grad()\n",
        "  loss.backward()\n",
        "  optimizer.step()\n",
        "\n",
        "print(float(loss))\n",
        "plt.plot(range(iterations), losses)"
      ],
      "execution_count": 11,
      "outputs": [
        {
          "output_type": "stream",
          "text": [
            "0.016139693558216095\n"
          ],
          "name": "stdout"
        },
        {
          "output_type": "execute_result",
          "data": {
            "text/plain": [
              "[<matplotlib.lines.Line2D at 0x7f9de896ddd8>]"
            ]
          },
          "metadata": {
            "tags": []
          },
          "execution_count": 11
        },
        {
          "output_type": "display_data",
          "data": {
            "image/png": "[encoded data removed]",
            "text/plain": [
              "<Figure size 432x288 with 1 Axes>"
            ]
          },
          "metadata": {
            "tags": []
          }
        }
      ]
    },
    {
      "cell_type": "code",
      "metadata": {
        "id": "XsX00MV2wGmz",
        "colab_type": "code",
        "colab": {
          "base_uri": "https://localhost:8080/",
          "height": 34
        },
        "outputId": "49960595-de3a-4d76-cad0-1ce9cbe59d09"
      },
      "source": [
        "# El modelo ya se encuentra entrenado.\n",
        "\n",
        "# Predecir valor.\n",
        "x = torch.Tensor([[4.0]])\n",
        "p = model(x)\n",
        "p"
      ],
      "execution_count": 12,
      "outputs": [
        {
          "output_type": "execute_result",
          "data": {
            "text/plain": [
              "tensor([[8.7186]], grad_fn=<AddmmBackward>)"
            ]
          },
          "metadata": {
            "tags": []
          },
          "execution_count": 12
        }
      ]
    },
    {
      "cell_type": "markdown",
      "metadata": {
        "id": "_2vP-4FqzH35",
        "colab_type": "text"
      },
      "source": [
        "# Regresión Logística\n",
        "\n",
        "---\n",
        "\n"
      ]
    },
    {
      "cell_type": "code",
      "metadata": {
        "id": "z2vwvjSmzNRM",
        "colab_type": "code",
        "colab": {
          "base_uri": "https://localhost:8080/",
          "height": 1000
        },
        "outputId": "e0261344-8e2e-4f6c-9624-8c2994e7ea0e"
      },
      "source": [
        "n = 100\n",
        "# Se usa // para retornar entero.\n",
        "h = n//2\n",
        "dimen = 2\n",
        "\n",
        "data = np.random.randn(n, dimen) * 3\n",
        "data"
      ],
      "execution_count": 14,
      "outputs": [
        {
          "output_type": "execute_result",
          "data": {
            "text/plain": [
              "array([[-0.57312696,  2.59857884],\n",
              "       [-0.90834402, -2.06967319],\n",
              "       [ 1.47770646,  2.96712762],\n",
              "       [ 2.11033668, -0.75066393],\n",
              "       [ 3.26692825,  1.8290898 ],\n",
              "       [-3.04014961, -1.20192558],\n",
              "       [-2.71089451, -4.06540311],\n",
              "       [-0.62667192,  1.72322867],\n",
              "       [-2.06131191,  1.91022809],\n",
              "       [-0.99399801,  8.08853817],\n",
              "       [-1.67945651, -2.28641544],\n",
              "       [-1.48438348, -1.73079661],\n",
              "       [ 2.30615357,  0.65636072],\n",
              "       [-0.89863909,  4.29050695],\n",
              "       [ 0.83123168, -0.60769091],\n",
              "       [-1.29886793,  5.99331017],\n",
              "       [-1.49874124,  3.76583913],\n",
              "       [-3.10188868,  1.47234831],\n",
              "       [-1.16874997,  2.70868104],\n",
              "       [-2.23599536,  9.18605793],\n",
              "       [-1.06736274,  1.11904033],\n",
              "       [ 2.08432749,  1.29332223],\n",
              "       [-0.39008632, -2.11992239],\n",
              "       [-3.68885133, -0.22343334],\n",
              "       [-2.69219529, -0.58069552],\n",
              "       [ 2.21897638, -4.33459748],\n",
              "       [ 0.02312976,  0.85682271],\n",
              "       [ 4.95475322,  0.97746688],\n",
              "       [ 1.64524013, -0.90732272],\n",
              "       [-2.40694668, -0.47179449],\n",
              "       [-3.79093298, -2.43923532],\n",
              "       [ 1.21895607,  0.63571486],\n",
              "       [-2.31487596, -1.17705591],\n",
              "       [-1.81869951,  2.54147838],\n",
              "       [-1.16728498,  3.91973161],\n",
              "       [ 3.40524987, -5.59367237],\n",
              "       [-6.29756953,  5.36394865],\n",
              "       [-2.72952325, -5.01313261],\n",
              "       [-1.4098991 , -1.35049957],\n",
              "       [ 0.73338069, -2.88461179],\n",
              "       [-0.4843357 , -3.39449152],\n",
              "       [ 4.88688311, -4.33293661],\n",
              "       [ 1.53849241, -1.1655953 ],\n",
              "       [ 3.66795478, -3.12985911],\n",
              "       [-0.36023833,  0.4723889 ],\n",
              "       [-1.73229472,  0.65757524],\n",
              "       [-1.13575381,  4.03970887],\n",
              "       [-0.51378992, -0.33782059],\n",
              "       [-2.89599432, -0.35694565],\n",
              "       [ 2.65271661,  3.76104758],\n",
              "       [-4.43846326, -2.05010689],\n",
              "       [-2.72507564, -2.52231849],\n",
              "       [ 5.28709657,  3.45885501],\n",
              "       [-4.87076593, -1.33981972],\n",
              "       [ 2.14780694,  1.02101457],\n",
              "       [-3.1775949 , -2.4328162 ],\n",
              "       [-2.76905632,  4.70379296],\n",
              "       [ 0.68420111, -0.11315222],\n",
              "       [ 2.90503101, -0.96376612],\n",
              "       [ 0.09829912, -2.26799377],\n",
              "       [-0.89329429,  4.67426777],\n",
              "       [ 2.12117735, -3.81293908],\n",
              "       [-2.66071893, -4.39989191],\n",
              "       [ 3.49038336,  4.00967239],\n",
              "       [-2.47862758,  2.92106137],\n",
              "       [ 2.47393775, -0.30426855],\n",
              "       [ 6.24496514, -0.94502479],\n",
              "       [ 2.07658129, -2.6695142 ],\n",
              "       [-0.34481116,  1.17339838],\n",
              "       [ 3.40884869,  2.29396101],\n",
              "       [ 4.55007252,  0.3931924 ],\n",
              "       [-1.70232315, -0.2307221 ],\n",
              "       [ 0.08909945, -3.7255054 ],\n",
              "       [ 0.62799436,  3.51238085],\n",
              "       [-0.22028112,  5.76797849],\n",
              "       [ 3.39874639, -6.25956194],\n",
              "       [-5.33769812,  0.63108561],\n",
              "       [ 3.46738315,  1.8228115 ],\n",
              "       [-2.26612145,  2.4233109 ],\n",
              "       [ 4.49322035,  7.92137454],\n",
              "       [ 3.60672211, -0.0885079 ],\n",
              "       [ 1.69030166, -2.81935337],\n",
              "       [ 5.11087125,  1.15440571],\n",
              "       [ 2.78683067,  0.45158697],\n",
              "       [-7.26641626, -1.22419928],\n",
              "       [-2.80209526, -0.32528893],\n",
              "       [ 3.8379752 ,  2.66218921],\n",
              "       [ 1.2314286 , -5.90656116],\n",
              "       [ 2.03105523,  5.07960908],\n",
              "       [ 1.60250231, -3.19093559],\n",
              "       [ 2.079291  , -2.37894955],\n",
              "       [ 0.8713977 ,  2.03638229],\n",
              "       [ 0.85170085, -1.88053849],\n",
              "       [ 0.24479536, -4.58874618],\n",
              "       [ 2.24430414, -2.41813451],\n",
              "       [-2.86071478,  1.63657568],\n",
              "       [ 0.1153082 , -2.41040165],\n",
              "       [ 2.41236619, -1.72967577],\n",
              "       [-5.5341803 ,  3.30953334],\n",
              "       [ 0.71801281, -0.85421055]])"
            ]
          },
          "metadata": {
            "tags": []
          },
          "execution_count": 14
        }
      ]
    },
    {
      "cell_type": "code",
      "metadata": {
        "id": "0dks1AKrzh5n",
        "colab_type": "code",
        "colab": {
          "base_uri": "https://localhost:8080/",
          "height": 282
        },
        "outputId": "4b409c2e-40ea-444f-e93b-12185b55b0e5"
      },
      "source": [
        "# Preparar los datos.\n",
        "plt.scatter(data[:, 0], data[:, 1])"
      ],
      "execution_count": 15,
      "outputs": [
        {
          "output_type": "execute_result",
          "data": {
            "text/plain": [
              "<matplotlib.collections.PathCollection at 0x7f9de9ae5e80>"
            ]
          },
          "metadata": {
            "tags": []
          },
          "execution_count": 15
        },
        {
          "output_type": "display_data",
          "data": {
            "image/png": "[encoded data removed]",
            "text/plain": [
              "<Figure size 432x288 with 1 Axes>"
            ]
          },
          "metadata": {
            "tags": []
          }
        }
      ]
    },
    {
      "cell_type": "code",
      "metadata": {
        "id": "2CARov7K2GV4",
        "colab_type": "code",
        "colab": {
          "base_uri": "https://localhost:8080/",
          "height": 282
        },
        "outputId": "34cfa47b-e8e8-4cdf-99f2-c43f2a0349dd"
      },
      "source": [
        "# Punto arbitrario.\n",
        "# Se centrar los datos del gráfico.\n",
        "data[:h, :]= data[:h, :] - 3 * np.ones((h, dimen))\n",
        "\n",
        "data[h:, :]= data[:h, :] + 3 * np.ones((h, dimen))\n",
        "\n",
        "colors = ['blue', 'red']\n",
        "# Colores en toda la longitud del arreglo.\n",
        "color = np.array([colors[0]] * h + [colors[1]] * h).reshape(n)\n",
        "plt.scatter(data[:, 0], data[:, 1], c=color, s=75, alpha=0.6)"
      ],
      "execution_count": 18,
      "outputs": [
        {
          "output_type": "execute_result",
          "data": {
            "text/plain": [
              "<matplotlib.collections.PathCollection at 0x7f9de87df668>"
            ]
          },
          "metadata": {
            "tags": []
          },
          "execution_count": 18
        },
        {
          "output_type": "display_data",
          "data": {
            "image/png": "[encoded data removed]",
            "text/plain": [
              "<Figure size 432x288 with 1 Axes>"
            ]
          },
          "metadata": {
            "tags": []
          }
        }
      ]
    },
    {
      "cell_type": "code",
      "metadata": {
        "id": "aTrC0Y4u5BWe",
        "colab_type": "code",
        "colab": {
          "base_uri": "https://localhost:8080/",
          "height": 34
        },
        "outputId": "4b1c897a-6003-49bf-d7c9-0bd1c4431579"
      },
      "source": [
        "target = np.array([0] * h + [1] * h).reshape(n, 1)\n",
        "\n",
        "# Crear tensores para variables de entrada y salida.\n",
        "x = torch.from_numpy(data).float().requires_grad_(True)\n",
        "\n",
        "y = torch.from_numpy(target).float()\n",
        "\n",
        "x.shape, y.shape"
      ],
      "execution_count": 22,
      "outputs": [
        {
          "output_type": "execute_result",
          "data": {
            "text/plain": [
              "(torch.Size([100, 2]), torch.Size([100, 1]))"
            ]
          },
          "metadata": {
            "tags": []
          },
          "execution_count": 22
        }
      ]
    },
    {
      "cell_type": "code",
      "metadata": {
        "id": "M4gIZcXm5tpM",
        "colab_type": "code",
        "colab": {
          "base_uri": "https://localhost:8080/",
          "height": 282
        },
        "outputId": "8ca5699e-1b42-4ad3-80ed-671836edf7d0"
      },
      "source": [
        "# Se coloca 2 en nn.Lineal porque el shape de X tiene 2.\n",
        "model = nn.Sequential(\n",
        "          nn.Linear(2, 1),\n",
        "          nn.Sigmoid()\n",
        "        )\n",
        "loss_function = nn.BCELoss()\n",
        "\n",
        "optimizer = optim.SGD(model.parameters(), lr=0.01)\n",
        "\n",
        "losses = []\n",
        "\n",
        "iterations = 6000\n",
        "\n",
        "for i in range(iterations):\n",
        "  result = model(x)\n",
        "\n",
        "  loss = loss_function(result, y)\n",
        "  losses.append(loss.data)\n",
        "\n",
        "  optimizer.zero_grad()\n",
        "  loss.backward()\n",
        "\n",
        "  optimizer.step()\n",
        "\n",
        "plt.plot(range(iterations), losses)\n",
        "loss"
      ],
      "execution_count": 29,
      "outputs": [
        {
          "output_type": "execute_result",
          "data": {
            "text/plain": [
              "tensor(0.4255, grad_fn=<BinaryCrossEntropyBackward>)"
            ]
          },
          "metadata": {
            "tags": []
          },
          "execution_count": 29
        },
        {
          "output_type": "display_data",
          "data": {
            "image/png": "[encoded data removed]",
            "text/plain": [
              "<Figure size 432x288 with 1 Axes>"
            ]
          },
          "metadata": {
            "tags": []
          }
        }
      ]
    },
    {
      "cell_type": "code",
      "metadata": {
        "id": "zRkirD_D7nH9",
        "colab_type": "code",
        "colab": {
          "base_uri": "https://localhost:8080/",
          "height": 51
        },
        "outputId": "a27ef52d-e304-4bc6-eeb7-197a93ad8fe6"
      },
      "source": [
        "blue = torch.Tensor([[-5, -6]])\n",
        "prediction = model(blue).data[0][0] > 0.5\n",
        "# Resultado es una probabilidad de que sea un punto azul.\n",
        "print(colors[prediction])\n",
        "\n",
        "red = torch.Tensor([[8, 6]])\n",
        "prediction = model(red).data[0][0] > 0.5\n",
        "# Resultado es una probabilidad de que sea un punto rojo.\n",
        "print(colors[prediction])"
      ],
      "execution_count": 32,
      "outputs": [
        {
          "output_type": "stream",
          "text": [
            "blue\n",
            "red\n"
          ],
          "name": "stdout"
        }
      ]
    },
    {
      "cell_type": "code",
      "metadata": {
        "id": "3AeU1rME8be8",
        "colab_type": "code",
        "colab": {
          "base_uri": "https://localhost:8080/",
          "height": 282
        },
        "outputId": "0166c8c7-6f92-4fa8-aca3-696d41afc1e3"
      },
      "source": [
        "# Pesas asignados.\n",
        "w = list(model.parameters())\n",
        "# Se asignan a las variables.\n",
        "w0 = w[0].data.numpy()\n",
        "w1 = w[1].data.numpy()\n",
        "\n",
        "# Graficar con una línea que separa la clasificación en las dos categorías.\n",
        "plt.scatter(data[:,0], data[:,1], c=color, s=75, alpha=0.6)\n",
        "\n",
        "# En el eje X. Distribuir números entre los dos parámetros de entrada.\n",
        "# Donde n: es la cantidad de elementos.\n",
        "x_axis = np.linspace(-10, 3, n)\n",
        "# En el eje Y. \n",
        "y_axis = -(w1[0] + x_axis*w0[0][0]) / w0[0][1]\n",
        "# Línea verde con separadores.\n",
        "plt.plot(x_axis, y_axis, 'g--')"
      ],
      "execution_count": 38,
      "outputs": [
        {
          "output_type": "execute_result",
          "data": {
            "text/plain": [
              "[<matplotlib.lines.Line2D at 0x7f9de84bf7f0>]"
            ]
          },
          "metadata": {
            "tags": []
          },
          "execution_count": 38
        },
        {
          "output_type": "display_data",
          "data": {
            "image/png": "[encoded data removed]",
            "text/plain": [
              "<Figure size 432x288 with 1 Axes>"
            ]
          },
          "metadata": {
            "tags": []
          }
        }
      ]
    }
  ]
}